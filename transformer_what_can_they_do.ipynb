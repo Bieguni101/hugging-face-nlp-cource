{
  "nbformat": 4,
  "nbformat_minor": 0,
  "metadata": {
    "colab": {
      "provenance": [],
      "toc_visible": true,
      "authorship_tag": "ABX9TyMrigwV2fE3mh+e181DR2gq",
      "include_colab_link": true
    },
    "kernelspec": {
      "name": "python3",
      "display_name": "Python 3"
    },
    "language_info": {
      "name": "python"
    }
  },
  "cells": [
    {
      "cell_type": "markdown",
      "metadata": {
        "id": "view-in-github",
        "colab_type": "text"
      },
      "source": [
        "<a href=\"https://colab.research.google.com/github/Bieguni101/hugging-face-nlp-cource/blob/main/transformer_what_can_they_do.ipynb\" target=\"_parent\"><img src=\"https://colab.research.google.com/assets/colab-badge.svg\" alt=\"Open In Colab\"/></a>"
      ]
    },
    {
      "cell_type": "code",
      "execution_count": null,
      "metadata": {
        "id": "cIzxNUzyjJvw"
      },
      "outputs": [],
      "source": [
        "!pip install datasets evaluate transformers[sentencepiece]"
      ]
    },
    {
      "cell_type": "code",
      "source": [
        "from transformers import pipeline\n",
        "\n",
        "classifier = pipeline(\"sentiment-analysis\")\n",
        "classifier(\"I've been wating for a HuggingFace cource my whole life.\")"
      ],
      "metadata": {
        "id": "1MeHaP6Rown8"
      },
      "execution_count": null,
      "outputs": []
    },
    {
      "cell_type": "code",
      "source": [
        "classifier(\"我想跟你出去玩\")"
      ],
      "metadata": {
        "id": "u-3K0XtjrlMY"
      },
      "execution_count": null,
      "outputs": []
    },
    {
      "cell_type": "code",
      "source": [
        "classifier([\"我不想上班\", \"i hate this so much\", \"i want to hang out with you\"])"
      ],
      "metadata": {
        "id": "yUrbkiDesI_n"
      },
      "execution_count": null,
      "outputs": []
    },
    {
      "cell_type": "code",
      "source": [
        "from transformers import pipeline\n",
        "\n",
        "classifier = pipeline(\"zero-shot-classification\");\n",
        "classifier(\"This is a course about the Transformers library\", candidate_labels=[\"education\", \"politics\", \"business\"])"
      ],
      "metadata": {
        "id": "9brCZav7xyBV"
      },
      "execution_count": null,
      "outputs": []
    },
    {
      "cell_type": "code",
      "source": [
        "classifier(\"这个月学完 NLP 课程\", candidate_labels=[\"运动\", \"工作\", \"学习\", \"其他\"])"
      ],
      "metadata": {
        "id": "Kb0o3z9XzEjP"
      },
      "execution_count": null,
      "outputs": []
    },
    {
      "cell_type": "code",
      "source": [
        "classifier(\"I have finished studying the NLP course this month.\", candidate_labels=[\"Exercise\", \"Work\", \"Study\", \"Other\"])"
      ],
      "metadata": {
        "id": "MF4M5bML4Byh"
      },
      "execution_count": null,
      "outputs": []
    },
    {
      "cell_type": "code",
      "source": [
        "classifier(\"Apply for a visa for New Zealand\", candidate_labels=[\"Exercise\", \"Work\", \"Study\", \"Other\", \"Travel\"])"
      ],
      "metadata": {
        "id": "PMTZYinj0K8h"
      },
      "execution_count": null,
      "outputs": []
    },
    {
      "cell_type": "code",
      "source": [
        "from transformers import pipeline \n",
        "\n",
        "generator = pipeline(\"text-generation\") \n",
        "generator(\"In this course, we will teach you how to\", num_return_sequences=2, max_length=15)"
      ],
      "metadata": {
        "id": "gG6lsOVO21Ww"
      },
      "execution_count": null,
      "outputs": []
    },
    {
      "cell_type": "code",
      "source": [
        "from transformers import pipeline \n",
        "\n",
        "generator = pipeline(\"text-generation\", model=\"gpt2\") \n",
        "generator(\"In this course, we will teach you how to\", num_return_sequences=2, max_length=30)"
      ],
      "metadata": {
        "id": "ZHn00xRW3bZt"
      },
      "execution_count": null,
      "outputs": []
    },
    {
      "cell_type": "code",
      "source": [
        "from transformers import pipeline\n",
        "\n",
        "unmasker = pipeline(\"fill-mask\")\n",
        "unmasker(\"This course will teach you all about <mask> models.\", top_k=2)"
      ],
      "metadata": {
        "id": "cAlp-4vx3sc4"
      },
      "execution_count": null,
      "outputs": []
    },
    {
      "cell_type": "code",
      "source": [
        "from transformers import pipeline\n",
        "\n",
        "ner = pipeline(\"ner\", grouped_entities=True)\n",
        "ner(\"My name is Sylvain and I work at Hugging Face in Brooklyn.\")"
      ],
      "metadata": {
        "id": "Hdnu27Jn5WuH"
      },
      "execution_count": null,
      "outputs": []
    },
    {
      "cell_type": "code",
      "source": [
        "from transformers import pipeline\n",
        "\n",
        "question_answerer = pipeline(\"question-answering\")\n",
        "question_answerer(\n",
        "    question=\"Where do I work?\",\n",
        "    context=\"My name is Sylvain and I work at Hugging Face in Brooklyn\",\n",
        ")"
      ],
      "metadata": {
        "id": "OG_uBj8r6VIe"
      },
      "execution_count": null,
      "outputs": []
    },
    {
      "cell_type": "code",
      "source": [
        "from transformers import pipeline\n",
        "\n",
        "summarizer = pipeline(\"summarization\")\n",
        "summarizer(\n",
        "    \"\"\"\n",
        "    America has changed dramatically during recent years. Not only has the number of \n",
        "    graduates in traditional engineering disciplines such as mechanical, civil, \n",
        "    electrical, chemical, and aeronautical engineering declined, but in most of \n",
        "    the premier American universities engineering curricula now concentrate on \n",
        "    and encourage largely the study of engineering science. As a result, there \n",
        "    are declining offerings in engineering subjects dealing with infrastructure, \n",
        "    the environment, and related issues, and greater concentration on high \n",
        "    technology subjects, largely supporting increasingly complex scientific \n",
        "    developments. While the latter is important, it should not be at the expense \n",
        "    of more traditional engineering.\n",
        "\n",
        "    Rapidly developing economies such as China and India, as well as other \n",
        "    industrial countries in Europe and Asia, continue to encourage and advance \n",
        "    the teaching of engineering. Both China and India, respectively, graduate \n",
        "    six and eight times as many traditional engineers as does the United States. \n",
        "    Other industrial countries at minimum maintain their output, while America \n",
        "    suffers an increasingly serious decline in the number of engineering graduates \n",
        "    and a lack of well-educated engineers.\n",
        "\"\"\"\n",
        ")"
      ],
      "metadata": {
        "id": "Ljjqv5Ba6jcL"
      },
      "execution_count": null,
      "outputs": []
    },
    {
      "cell_type": "code",
      "source": [
        "from transformers import pipeline \n",
        "\n",
        "translator = pipeline( \"translation\" , model= \"Helsinki-NLP/opus-mt-fr-en\" ) \n",
        "translator( \"Ce cours est produit par Hugging Face.\" )"
      ],
      "metadata": {
        "id": "-8LLtfvp61bv"
      },
      "execution_count": null,
      "outputs": []
    }
  ]
}